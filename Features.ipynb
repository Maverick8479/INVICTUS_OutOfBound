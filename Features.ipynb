{
 "cells": [
  {
   "cell_type": "code",
   "execution_count": 172,
   "metadata": {},
   "outputs": [],
   "source": [
    "import pandas as pd\n",
    "from sklearn.model_selection import train_test_split\n",
    "from sklearn.ensemble import RandomForestClassifier\n",
    "from sklearn.ensemble import GradientBoostingClassifier\n",
    "from sklearn.tree import DecisionTreeClassifier\n",
    "from sklearn.linear_model import LogisticRegression\n",
    "from sklearn.svm import SVC\n",
    "from sklearn.preprocessing import LabelEncoder\n",
    "from sklearn.metrics import accuracy_score, classification_report\n"
   ]
  },
  {
   "cell_type": "code",
   "execution_count": 173,
   "metadata": {},
   "outputs": [],
   "source": [
    "data = pd.read_csv(\"student-data.csv\")"
   ]
  },
  {
   "cell_type": "code",
   "execution_count": 174,
   "metadata": {},
   "outputs": [],
   "source": [
    "data['failed'] = data['passed'].apply(lambda x: 1 if x == 'no' else 0)\n",
    "\n",
    "# Drop unnecessary columns (like 'passed' since it's the target variable)\n",
    "data = data.drop(\"passed\", axis=1)\n",
    "\n",
    "# Handle missing values (if any)\n",
    "data.dropna(inplace=True)\n",
    "\n"
   ]
  },
  {
   "cell_type": "code",
   "execution_count": 175,
   "metadata": {},
   "outputs": [],
   "source": [
    "# Encode binary categorical variables\n",
    "label_encoder = LabelEncoder()\n",
    "binary_columns = [\"school\", \"sex\", \"address\", \"famsize\", \"Pstatus\", \"internet\", \"romantic\"]\n",
    "for column in binary_columns:\n",
    "    data[column] = label_encoder.fit_transform(data[column])\n",
    "\n"
   ]
  },
  {
   "cell_type": "code",
   "execution_count": 176,
   "metadata": {},
   "outputs": [],
   "source": [
    "# Encode nominal categorical variables (one-hot encoding)\n",
    "nominal_columns = [\"Mjob\", \"Fjob\", \"reason\", \"guardian\"]\n",
    "data = pd.get_dummies(data, columns=nominal_columns, drop_first=True)\n",
    "\n"
   ]
  },
  {
   "cell_type": "code",
   "execution_count": 177,
   "metadata": {},
   "outputs": [
    {
     "name": "stdout",
     "output_type": "stream",
     "text": [
      "school                int32\n",
      "sex                   int32\n",
      "age                   int64\n",
      "address               int32\n",
      "famsize               int32\n",
      "Pstatus               int32\n",
      "Medu                  int64\n",
      "Fedu                  int64\n",
      "traveltime            int64\n",
      "studytime             int64\n",
      "failures              int64\n",
      "schoolsup            object\n",
      "famsup               object\n",
      "paid                 object\n",
      "activities           object\n",
      "nursery              object\n",
      "higher               object\n",
      "internet              int32\n",
      "romantic              int32\n",
      "famrel                int64\n",
      "freetime              int64\n",
      "goout                 int64\n",
      "Dalc                  int64\n",
      "Walc                  int64\n",
      "health                int64\n",
      "absences              int64\n",
      "failed                int64\n",
      "Mjob_health           uint8\n",
      "Mjob_other            uint8\n",
      "Mjob_services         uint8\n",
      "Mjob_teacher          uint8\n",
      "Fjob_health           uint8\n",
      "Fjob_other            uint8\n",
      "Fjob_services         uint8\n",
      "Fjob_teacher          uint8\n",
      "reason_home           uint8\n",
      "reason_other          uint8\n",
      "reason_reputation     uint8\n",
      "guardian_mother       uint8\n",
      "guardian_other        uint8\n",
      "dtype: object\n"
     ]
    }
   ],
   "source": [
    "print(data.dtypes)"
   ]
  },
  {
   "cell_type": "code",
   "execution_count": 178,
   "metadata": {},
   "outputs": [
    {
     "name": "stdout",
     "output_type": "stream",
     "text": [
      "Unique values for schoolsup: ['yes' 'no']\n",
      "Unique values for famsup: ['no' 'yes']\n",
      "Unique values for paid: ['no' 'yes']\n",
      "Unique values for activities: ['no' 'yes']\n",
      "Unique values for nursery: ['yes' 'no']\n",
      "Unique values for higher: ['yes' 'no']\n",
      "Unique values for internet: [0 1]\n"
     ]
    }
   ],
   "source": [
    "object_columns = ['schoolsup', 'famsup', 'paid', 'activities', 'nursery', 'higher', 'internet']\n",
    "for column in object_columns:\n",
    "    print(f\"Unique values for {column}: {data[column].unique()}\")"
   ]
  },
  {
   "cell_type": "code",
   "execution_count": 179,
   "metadata": {},
   "outputs": [],
   "source": [
    "# Encode 'yes' and 'no' in binary columns\n",
    "binary_columns = [\"schoolsup\", \"famsup\", \"paid\", \"activities\", \"nursery\", \"higher\"]\n",
    "for column in binary_columns:\n",
    "    data[column] = label_encoder.fit_transform(data[column])"
   ]
  },
  {
   "cell_type": "code",
   "execution_count": 180,
   "metadata": {},
   "outputs": [],
   "source": [
    "# Split the data into features and target variable\n",
    "X = data.drop(\"failed\", axis=1)\n",
    "y = data[\"failed\"]\n",
    "\n",
    "# Split the data into training and testing sets\n",
    "X_train, X_test, y_train, y_test = train_test_split(X, y, test_size=0.2, random_state=42)\n",
    "\n",
    "# Choose a classification model (Random Forest as an example)\n",
    "model =RandomForestClassifier()\n",
    "\n",
    "# Train the model\n",
    "model.fit(X_train, y_train)\n",
    "\n",
    "# Make predictions\n",
    "y_pred = model.predict(X_test)\n",
    "\n"
   ]
  },
  {
   "cell_type": "code",
   "execution_count": 181,
   "metadata": {},
   "outputs": [
    {
     "name": "stdout",
     "output_type": "stream",
     "text": [
      "Accuracy: 0.6708860759493671\n"
     ]
    }
   ],
   "source": [
    "# Evaluate the model\n",
    "accuracy = accuracy_score(y_test, y_pred)\n",
    "print(\"Accuracy:\", accuracy)\n",
    "\n"
   ]
  },
  {
   "cell_type": "code",
   "execution_count": 182,
   "metadata": {},
   "outputs": [
    {
     "name": "stdout",
     "output_type": "stream",
     "text": [
      "Classification Report:\n",
      "              precision    recall  f1-score   support\n",
      "\n",
      "           0       0.69      0.90      0.78        52\n",
      "           1       0.55      0.22      0.32        27\n",
      "\n",
      "    accuracy                           0.67        79\n",
      "   macro avg       0.62      0.56      0.55        79\n",
      "weighted avg       0.64      0.67      0.62        79\n",
      "\n"
     ]
    }
   ],
   "source": [
    "# Print classification report\n",
    "print(\"Classification Report:\")\n",
    "print(classification_report(y_test, y_pred))"
   ]
  },
  {
   "cell_type": "code",
   "execution_count": 183,
   "metadata": {},
   "outputs": [
    {
     "name": "stdout",
     "output_type": "stream",
     "text": [
      "\n",
      "Top Features:\n",
      "      Feature  Importance\n",
      "25   absences    0.090627\n",
      "10   failures    0.074637\n",
      "21      goout    0.051141\n",
      "2         age    0.049840\n",
      "24     health    0.046414\n",
      "6        Medu    0.041936\n",
      "20   freetime    0.041206\n",
      "7        Fedu    0.039606\n",
      "23       Walc    0.039135\n",
      "9   studytime    0.036952\n"
     ]
    }
   ],
   "source": [
    "# Get feature importances\n",
    "feature_importances = model.feature_importances_\n",
    "\n",
    "# Create a DataFrame to display feature importances\n",
    "feature_importance_df = pd.DataFrame({\"Feature\": X.columns, \"Importance\": feature_importances})\n",
    "feature_importance_df = feature_importance_df.sort_values(by=\"Importance\", ascending=False)\n",
    "\n",
    "# Display the top N important features\n",
    "top_features = feature_importance_df.head(10)  # Change 10 to the desired number\n",
    "print(\"\\nTop Features:\")\n",
    "print(top_features)"
   ]
  },
  {
   "cell_type": "code",
   "execution_count": 185,
   "metadata": {},
   "outputs": [
    {
     "name": "stdout",
     "output_type": "stream",
     "text": [
      "\n",
      "Top Features (Random Forest):\n",
      "      Feature  Importance\n",
      "25   absences    0.096962\n",
      "10   failures    0.072243\n",
      "2         age    0.056099\n",
      "21      goout    0.052515\n",
      "6        Medu    0.042796\n",
      "7        Fedu    0.041700\n",
      "24     health    0.040681\n",
      "20   freetime    0.039165\n",
      "19     famrel    0.038729\n",
      "9   studytime    0.036242\n"
     ]
    }
   ],
   "source": [
    "from sklearn.ensemble import RandomForestClassifier\n",
    "\n",
    "# Create a Random Forest model\n",
    "model_rf = RandomForestClassifier(n_estimators=100, random_state=42)\n",
    "\n",
    "# Train the model\n",
    "model_rf.fit(X_train, y_train)\n",
    "\n",
    "# Get feature importances\n",
    "feature_importances_rf = model_rf.feature_importances_\n",
    "\n",
    "# Create a DataFrame to display feature importances\n",
    "feature_importance_df_rf = pd.DataFrame({\"Feature\": X.columns, \"Importance\": feature_importances_rf})\n",
    "feature_importance_df_rf = feature_importance_df_rf.sort_values(by=\"Importance\", ascending=False)\n",
    "\n",
    "# Display the top N important features\n",
    "top_features_rf = feature_importance_df_rf.head(10)  # Change 10 to the desired number\n",
    "print(\"\\nTop Features (Random Forest):\")\n",
    "print(top_features_rf)\n"
   ]
  }
 ],
 "metadata": {
  "kernelspec": {
   "display_name": "Python 3",
   "language": "python",
   "name": "python3"
  },
  "language_info": {
   "codemirror_mode": {
    "name": "ipython",
    "version": 3
   },
   "file_extension": ".py",
   "mimetype": "text/x-python",
   "name": "python",
   "nbconvert_exporter": "python",
   "pygments_lexer": "ipython3",
   "version": "3.11.2"
  }
 },
 "nbformat": 4,
 "nbformat_minor": 2
}
